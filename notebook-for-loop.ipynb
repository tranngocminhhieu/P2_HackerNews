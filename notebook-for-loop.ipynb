{
 "cells": [
  {
   "cell_type": "markdown",
   "metadata": {
    "pycharm": {
     "name": "#%% md\n"
    }
   },
   "source": [
    "# Discover posts on Hacker News\n",
    "\n",
    "Imagine that my company is trying to attract attention on [Hacker News](https://news.ycombinator.com/) so that more people talk about the company's brand and products. In this project, I need to analyze and find out what type of posts and time range attracts the most comments on Hacker News.\n",
    "\n",
    "We'll use [the Hacker News Posts dataset shared on Kaggle](https://www.kaggle.com/hacker-news/hacker-news-posts) for this project. We need to clean the dataset, compute average comments per type and per hour.\n",
    "\n",
    "**Summary of results**\n",
    "\n",
    "**Ask HN** type and **15:00** (Eastern Time) attracts the most comments.\n",
    "\n",
    "## Exploring dataset"
   ]
  },
  {
   "cell_type": "code",
   "execution_count": 1,
   "metadata": {
    "pycharm": {
     "name": "#%%\n"
    }
   },
   "outputs": [
    {
     "name": "stdout",
     "output_type": "stream",
     "text": [
      "Total posts: 293119\n",
      "['id', 'title', 'url', 'num_points', 'num_comments', 'author', 'created_at']\n",
      "['12579008', 'You have two days to comment if you want stem cells to be classified as your own', 'http://www.regulations.gov/document?D=FDA-2015-D-3719-0018', '1', '0', 'altstar', '9/26/2016 3:26']\n",
      "['12579005', 'SQLAR  the SQLite Archiver', 'https://www.sqlite.org/sqlar/doc/trunk/README.md', '1', '0', 'blacksqr', '9/26/2016 3:24']\n",
      "['12578997', 'What if we just printed a flatscreen television on the side of our boxes?', 'https://medium.com/vanmoof/our-secrets-out-f21c1f03fdc8#.ietxmez43', '1', '0', 'pavel_lishin', '9/26/2016 3:19']\n",
      "['12578989', 'algorithmic music', 'http://cacm.acm.org/magazines/2011/7/109891-algorithmic-composition/fulltext', '1', '0', 'poindontcare', '9/26/2016 3:16']\n",
      "['12578979', 'How the Data Vault Enables the Next-Gen Data Warehouse and Data Lake', 'https://www.talend.com/blog/2016/05/12/talend-and-Â\\x93the-data-vaultÂ\\x94', '1', '0', 'markgainor1', '9/26/2016 3:14']\n"
     ]
    }
   ],
   "source": [
    "#Import and convert CSV to List of list\n",
    "from csv import reader\n",
    "open_file = open('HN_posts_year_to_Sep_26_2016.csv')\n",
    "read_file = reader(open_file)\n",
    "hn_posts = list(read_file)\n",
    "\n",
    "hn_posts_header = hn_posts[0]\n",
    "hn_posts = hn_posts[1:]\n",
    "\n",
    "#Explore dataset\n",
    "def explore_dataset(dataset,start=0,end=5):\n",
    "    for row in dataset[start:end]:\n",
    "        print(row)\n",
    "\n",
    "print('Total posts:',len(hn_posts))\n",
    "print(hn_posts_header)\n",
    "explore_dataset(hn_posts)"
   ]
  },
  {
   "cell_type": "markdown",
   "metadata": {
    "pycharm": {
     "name": "#%% md\n"
    }
   },
   "source": [
    "Our dataset has 293,119 rows. The header row is easy to understand its data, *num_points* is the difference of *Upvotes* and *Down-Votes*.\n",
    "\n",
    "## Deleting posts with 0 comment\n",
    "\n",
    "Our purpose is to analyze what posts attract comments, so we need to delete the posts with 0 comments."
   ]
  },
  {
   "cell_type": "code",
   "execution_count": 2,
   "metadata": {
    "pycharm": {
     "name": "#%%\n"
    }
   },
   "outputs": [
    {
     "name": "stdout",
     "output_type": "stream",
     "text": [
      "Total posts have comments: 80401\n"
     ]
    }
   ],
   "source": [
    "#Deleting posts with 0 comment\n",
    "hn_posts_has_comments = []\n",
    "\n",
    "for row in hn_posts:\n",
    "    num_comments = int(row[4])\n",
    "    if num_comments != 0:\n",
    "        hn_posts_has_comments.append(row)\n",
    "\n",
    "print('Total posts have comments:',len(hn_posts_has_comments))"
   ]
  },
  {
   "cell_type": "markdown",
   "metadata": {
    "pycharm": {
     "name": "#%% md\n"
    }
   },
   "source": [
    "## Extracting Ask HN and Show HN Posts\n",
    "Two popular types of posts on Hacker News are **Ask HN** and **Show HN**; these posts will have the title beginning with *Ask HN* or *Show HN*."
   ]
  },
  {
   "cell_type": "code",
   "execution_count": 3,
   "metadata": {
    "pycharm": {
     "name": "#%%\n"
    }
   },
   "outputs": [
    {
     "name": "stdout",
     "output_type": "stream",
     "text": [
      "Ask HN: 6911\n",
      "['12578908', 'Ask HN: What TLD do you use for local development?', '', '4', '7', 'Sevrene', '9/26/2016 2:53']\n",
      "['12578522', 'Ask HN: How do you pass on your work when you die?', '', '6', '3', 'PascLeRasc', '9/26/2016 1:17']\n",
      "['12577870', 'Ask HN: Why join a fund when you can be an angel?', '', '1', '3', 'anthony_james', '9/25/2016 22:48']\n",
      "['12577647', 'Ask HN: Someone uses stock trading as passive income?', '', '5', '2', '00taffe', '9/25/2016 21:50']\n",
      "['12576946', 'Ask HN: How hard would it be to make a cheap, hackable phone?', '', '2', '1', 'hkt', '9/25/2016 19:30']\n",
      "Show HN: 5059\n",
      "['12577142', 'Show HN: Jumble  Essays on the go #PaulInYourPocket', 'https://itunes.apple.com/us/app/jumble-find-startup-essay/id1150939197?ls=1&mt=8', '1', '1', 'ryderj', '9/25/2016 20:06']\n",
      "['12576813', 'Show HN: Learn Japanese Vocab via multiple choice questions', 'http://japanese.vul.io/', '1', '1', 'soulchild37', '9/25/2016 19:06']\n",
      "['12576090', 'Show HN: Markov chain Twitter bot. Trained on comments left on Pornhub', 'https://twitter.com/botsonasty', '3', '1', 'keepingscore', '9/25/2016 16:50']\n",
      "['12575471', 'Show HN: Project-Okot: Novel, CODE-FREE data-apps in mere seconds', 'https://studio.nuchwezi.com/', '3', '1', 'nfixx', '9/25/2016 14:30']\n",
      "['12574773', 'Show HN: Cursor that Screenshot', 'http://edward.codes/cursor-that-screenshot', '3', '3', 'ed-bit', '9/25/2016 10:50']\n",
      "Other HN: 68431\n",
      "['12578975', 'Saving the Hassle of Shopping', 'https://blog.menswr.com/2016/09/07/whats-new-with-your-style-feed/', '1', '1', 'bdoux', '9/26/2016 3:13']\n",
      "['12578822', 'Amazons Algorithms Dont Find You the Best Deals', 'https://www.technologyreview.com/s/602442/amazons-algorithms-dont-find-you-the-best-deals/', '1', '1', 'yarapavan', '9/26/2016 2:26']\n",
      "['12578694', 'Emergency dose of epinephrine that does not cost an arm and a leg', 'http://m.imgur.com/gallery/th6Ua', '2', '1', 'dredmorbius', '9/26/2016 1:54']\n",
      "['12578624', 'Phone Makers Could Cut Off Drivers. So Why Dont They?', 'http://www.nytimes.com/2016/09/25/technology/phone-makers-could-cut-off-drivers-so-why-dont-they.html', '4', '1', 'danso', '9/26/2016 1:37']\n",
      "['12578556', 'OpenMW, Open Source Elderscrolls III: Morrowind Reimplementation', 'https://openmw.org/en/', '32', '3', 'rocky1138', '9/26/2016 1:24']\n"
     ]
    }
   ],
   "source": [
    "#Extracting Ask HN and Show HN Posts\n",
    "ask_posts = []\n",
    "show_posts = []\n",
    "other_posts = []\n",
    "\n",
    "for row in hn_posts_has_comments:\n",
    "    title = row[1]\n",
    "    if title.lower().startswith('ask hn') == True:\n",
    "        ask_posts.append(row)\n",
    "    elif title.lower().startswith('show hn') == True:\n",
    "        show_posts.append(row)\n",
    "    else:\n",
    "        other_posts.append(row)\n",
    "\n",
    "print('Ask HN:',len(ask_posts))\n",
    "explore_dataset(ask_posts)\n",
    "print('Show HN:',len(show_posts))\n",
    "explore_dataset(show_posts)\n",
    "print('Other HN:',len(other_posts))\n",
    "explore_dataset(other_posts)"
   ]
  },
  {
   "cell_type": "markdown",
   "metadata": {
    "pycharm": {
     "name": "#%% md\n"
    }
   },
   "source": [
    "## Calculating the Average Number of Comments for Ask HN and Show HN Posts\n",
    "We'll determine if Ask posts or Show posts receive more comments on average."
   ]
  },
  {
   "cell_type": "code",
   "execution_count": 4,
   "metadata": {
    "pycharm": {
     "name": "#%%\n"
    }
   },
   "outputs": [
    {
     "name": "stdout",
     "output_type": "stream",
     "text": [
      "Average Ask posts comments: 13.744175951381855\n",
      "Average Show posts comments 9.810832180272781\n"
     ]
    }
   ],
   "source": [
    "#Calculating the Average Number of Comments for Ask HN and Show HN Posts\n",
    "total_ask_posts_comments = 0\n",
    "total_show_posts_comments = 0\n",
    "\n",
    "for row in ask_posts:\n",
    "    num_comments = int(row[4])\n",
    "    total_ask_posts_comments += num_comments\n",
    "\n",
    "for row in show_posts:\n",
    "    num_comments = int(row[4])\n",
    "    total_show_posts_comments += num_comments\n",
    "\n",
    "avg_ask_posts_comments = total_ask_posts_comments / len(ask_posts)\n",
    "avg_show_posts_comments = total_show_posts_comments / len(show_posts)\n",
    "\n",
    "print('Average Ask posts comments:',avg_ask_posts_comments)\n",
    "print('Average Show posts comments',avg_show_posts_comments)"
   ]
  },
  {
   "cell_type": "markdown",
   "metadata": {
    "pycharm": {
     "name": "#%% md\n"
    }
   },
   "source": [
    "The results show Ask posts attract more comments than Show posts. Since Ask posts are more likely to receive comments, we'll focus our remaining analysis just on these posts.\n",
    "\n",
    "## Finding the Number of Ask Posts and Comments by Hour Created\n",
    "\n",
    "Next, we'll determine if ask posts created at a certain time are more likely to attract comments. We'll use the following steps to perform this analysis:\n",
    "\n",
    "- Calculate the number of ask posts created in each hour of the day, along with the number of comments received.\n",
    "- Calculate the average number of comments ask posts receive by hour created."
   ]
  },
  {
   "cell_type": "code",
   "execution_count": 5,
   "metadata": {
    "pycharm": {
     "name": "#%%\n"
    }
   },
   "outputs": [
    {
     "data": {
      "text/plain": [
       "{'02': 2996,\n",
       " '01': 2089,\n",
       " '22': 3372,\n",
       " '21': 4500,\n",
       " '19': 3954,\n",
       " '17': 5547,\n",
       " '15': 18525,\n",
       " '14': 4972,\n",
       " '13': 7245,\n",
       " '11': 2797,\n",
       " '10': 3013,\n",
       " '09': 1477,\n",
       " '07': 1585,\n",
       " '03': 2154,\n",
       " '16': 4466,\n",
       " '08': 2362,\n",
       " '00': 2277,\n",
       " '23': 2297,\n",
       " '20': 4462,\n",
       " '18': 4877,\n",
       " '12': 4234,\n",
       " '04': 2360,\n",
       " '06': 1587,\n",
       " '05': 1838}"
      ]
     },
     "execution_count": 5,
     "metadata": {},
     "output_type": "execute_result"
    }
   ],
   "source": [
    "#Import datetime module\n",
    "import datetime as dt\n",
    "\n",
    "#date time format of Hacker News\n",
    "hn_datetime_format = '%m/%d/%Y %H:%M'\n",
    "\n",
    "#Creating a list of created time and comments\n",
    "result_list = []\n",
    "\n",
    "for row in ask_posts:\n",
    "    created_at = row[-1]\n",
    "    created_at = dt.datetime.strptime(created_at,hn_datetime_format)\n",
    "    num_comments = int(row[4])\n",
    "    result_list.append([created_at,num_comments])\n",
    "\n",
    "#Creating 2 dict for total comments and total posts by hour\n",
    "comments_by_hour = {}\n",
    "counts_by_hour = {}\n",
    "\n",
    "for row in result_list:\n",
    "    hour = row[0].strftime('%H')\n",
    "    comment = row[1]\n",
    "    if hour in counts_by_hour:\n",
    "        counts_by_hour[hour] += 1\n",
    "        comments_by_hour[hour] += comment\n",
    "    else:\n",
    "        counts_by_hour[hour] = 1\n",
    "        comments_by_hour[hour] = comment\n",
    "\n",
    "comments_by_hour"
   ]
  },
  {
   "cell_type": "markdown",
   "metadata": {
    "pycharm": {
     "name": "#%% md\n"
    }
   },
   "source": [
    "# Calculating the Average Number of Comments for Ask HN Posts by Hour\n",
    "\n",
    "Next, we'll use these two dictionaries to calculate the average number of comments for posts created during each hour of the day."
   ]
  },
  {
   "cell_type": "code",
   "execution_count": 6,
   "metadata": {
    "pycharm": {
     "name": "#%%\n"
    }
   },
   "outputs": [
    {
     "data": {
      "text/plain": [
       "[[39.66809421841542, 15],\n",
       " [22.2239263803681, 13],\n",
       " [15.452554744525548, 12],\n",
       " [13.757990867579908, 10],\n",
       " [13.73019801980198, 17],\n",
       " [13.198237885462555, 2],\n",
       " [13.153439153439153, 14],\n",
       " [12.688172043010752, 4],\n",
       " [12.43157894736842, 8],\n",
       " [11.749128919860627, 22],\n",
       " [11.38265306122449, 20],\n",
       " [11.143426294820717, 11],\n",
       " [11.139393939393939, 5],\n",
       " [11.056511056511056, 21],\n",
       " [10.789823008849558, 18],\n",
       " [10.76144578313253, 16],\n",
       " [10.160377358490566, 3],\n",
       " [10.095541401273886, 7],\n",
       " [9.857142857142858, 0],\n",
       " [9.414285714285715, 19],\n",
       " [9.367713004484305, 1],\n",
       " [9.017045454545455, 6],\n",
       " [8.392045454545455, 9],\n",
       " [8.322463768115941, 23]]"
      ]
     },
     "execution_count": 6,
     "metadata": {},
     "output_type": "execute_result"
    }
   ],
   "source": [
    "#calculating the average number of comments by hour\n",
    "avg_by_hour = []\n",
    "\n",
    "for key in comments_by_hour:\n",
    "    avg_comment = comments_by_hour[key] / counts_by_hour[key]\n",
    "    avg_by_hour.append([avg_comment,int(key)])\n",
    "\n",
    "avg_by_hour = sorted(avg_by_hour,reverse=True)\n",
    "\n",
    "avg_by_hour"
   ]
  },
  {
   "cell_type": "markdown",
   "metadata": {
    "pycharm": {
     "name": "#%% md\n"
    }
   },
   "source": [
    "I intentionally swapped the hour and average numbers positions. This helps us in sorting and printing the values from a list of lists."
   ]
  },
  {
   "cell_type": "code",
   "execution_count": 7,
   "metadata": {
    "pycharm": {
     "name": "#%%\n"
    }
   },
   "outputs": [
    {
     "name": "stdout",
     "output_type": "stream",
     "text": [
      "Top 5 Hours for Ask Posts Comments\n",
      "15:00 has an average of 39.67 comments\n",
      "13:00 has an average of 22.22 comments\n",
      "12:00 has an average of 15.45 comments\n",
      "10:00 has an average of 13.76 comments\n",
      "17:00 has an average of 13.73 comments\n"
     ]
    }
   ],
   "source": [
    "print('Top 5 Hours for Ask Posts Comments')\n",
    "for row in avg_by_hour[:5]:\n",
    "    hour = dt.time(row[1]).strftime('%H:%M')\n",
    "    avg_comment = row[0]\n",
    "    print('{} has an average of {:,.2f} comments'.format(hour,avg_comment))"
   ]
  },
  {
   "cell_type": "markdown",
   "metadata": {
    "pycharm": {
     "name": "#%% md\n"
    }
   },
   "source": [
    "According to the [data set documentation](https://www.kaggle.com/hacker-news/hacker-news-posts), the *created_at* column's time zone is Eastern Time (ET) in the US.\n",
    "\n",
    "The best time to post is 15:00 - 16:00 ET with 39.67 comments per post, and the second time is 13:00 - 14:00 ET with 22.22 comments per post.\n",
    "\n",
    "## Conclusion\n",
    "To create attention for my company on Hacker News, the Marketing staff should focus on writing articles in the Ask HN category. The best time to post is 15:00 - 16:00 ET and 13:00 - 14:00 ET.\n",
    "\n",
    "Please note that this analysis is based on data that has removed rows without comments."
   ]
  }
 ],
 "metadata": {
  "kernelspec": {
   "display_name": "Python 3 (ipykernel)",
   "language": "python",
   "name": "python3"
  },
  "language_info": {
   "codemirror_mode": {
    "name": "ipython",
    "version": 3
   },
   "file_extension": ".py",
   "mimetype": "text/x-python",
   "name": "python",
   "nbconvert_exporter": "python",
   "pygments_lexer": "ipython3",
   "version": "3.9.7"
  }
 },
 "nbformat": 4,
 "nbformat_minor": 4
}
